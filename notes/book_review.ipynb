{
 "cells": [
  {
   "cell_type": "code",
   "execution_count": 1,
   "id": "ce0d89e6",
   "metadata": {},
   "outputs": [],
   "source": [
    "# #!/bin/bash\n",
    "# !curl -L -o ~/datasets/amazon-books-reviews.zip\\\n",
    "#   https://www.kaggle.com/api/v1/datasets/download/mohamedbakhet/amazon-books-reviews\n",
    "\n",
    "# !pip install pandas \n",
    "# !which python"
   ]
  },
  {
   "cell_type": "code",
   "execution_count": 2,
   "id": "db7b42d1",
   "metadata": {},
   "outputs": [
    {
     "name": "stdout",
     "output_type": "stream",
     "text": [
      "<class 'pandas.core.frame.DataFrame'>\n",
      "RangeIndex: 3000000 entries, 0 to 2999999\n",
      "Data columns (total 10 columns):\n",
      " #   Column              Dtype  \n",
      "---  ------              -----  \n",
      " 0   Id                  object \n",
      " 1   Title               object \n",
      " 2   Price               float64\n",
      " 3   User_id             object \n",
      " 4   profileName         object \n",
      " 5   review/helpfulness  object \n",
      " 6   review/score        float64\n",
      " 7   review/time         int64  \n",
      " 8   review/summary      object \n",
      " 9   review/text         object \n",
      "dtypes: float64(2), int64(1), object(7)\n",
      "memory usage: 228.9+ MB\n",
      "None\n"
     ]
    }
   ],
   "source": [
    "import pandas as pd\n",
    "\n",
    "dir = \"/home/quang/Two-stages-recommendation-system/datasets/\"\n",
    "\n",
    "# Load the data\n",
    "df = pd.read_csv(dir + 'Books_rating.csv')\n",
    "\n",
    "# Basic info\n",
    "print(df.info())\n"
   ]
  },
  {
   "cell_type": "code",
   "execution_count": 3,
   "id": "f8ffba2c",
   "metadata": {},
   "outputs": [
    {
     "name": "stdout",
     "output_type": "stream",
     "text": [
      "Dataset shape: (3000000, 10)\n",
      "\n",
      "First 3 rows:\n"
     ]
    },
    {
     "data": {
      "text/html": [
       "<div>\n",
       "<style scoped>\n",
       "    .dataframe tbody tr th:only-of-type {\n",
       "        vertical-align: middle;\n",
       "    }\n",
       "\n",
       "    .dataframe tbody tr th {\n",
       "        vertical-align: top;\n",
       "    }\n",
       "\n",
       "    .dataframe thead th {\n",
       "        text-align: right;\n",
       "    }\n",
       "</style>\n",
       "<table border=\"1\" class=\"dataframe\">\n",
       "  <thead>\n",
       "    <tr style=\"text-align: right;\">\n",
       "      <th></th>\n",
       "      <th>Id</th>\n",
       "      <th>Title</th>\n",
       "      <th>Price</th>\n",
       "      <th>User_id</th>\n",
       "      <th>profileName</th>\n",
       "      <th>review/helpfulness</th>\n",
       "      <th>review/score</th>\n",
       "      <th>review/time</th>\n",
       "      <th>review/summary</th>\n",
       "      <th>review/text</th>\n",
       "    </tr>\n",
       "  </thead>\n",
       "  <tbody>\n",
       "    <tr>\n",
       "      <th>0</th>\n",
       "      <td>1882931173</td>\n",
       "      <td>Its Only Art If Its Well Hung!</td>\n",
       "      <td>NaN</td>\n",
       "      <td>AVCGYZL8FQQTD</td>\n",
       "      <td>Jim of Oz \"jim-of-oz\"</td>\n",
       "      <td>7/7</td>\n",
       "      <td>4.0</td>\n",
       "      <td>940636800</td>\n",
       "      <td>Nice collection of Julie Strain images</td>\n",
       "      <td>This is only for Julie Strain fans. It's a col...</td>\n",
       "    </tr>\n",
       "    <tr>\n",
       "      <th>1</th>\n",
       "      <td>0826414346</td>\n",
       "      <td>Dr. Seuss: American Icon</td>\n",
       "      <td>NaN</td>\n",
       "      <td>A30TK6U7DNS82R</td>\n",
       "      <td>Kevin Killian</td>\n",
       "      <td>10/10</td>\n",
       "      <td>5.0</td>\n",
       "      <td>1095724800</td>\n",
       "      <td>Really Enjoyed It</td>\n",
       "      <td>I don't care much for Dr. Seuss but after read...</td>\n",
       "    </tr>\n",
       "    <tr>\n",
       "      <th>2</th>\n",
       "      <td>0826414346</td>\n",
       "      <td>Dr. Seuss: American Icon</td>\n",
       "      <td>NaN</td>\n",
       "      <td>A3UH4UZ4RSVO82</td>\n",
       "      <td>John Granger</td>\n",
       "      <td>10/11</td>\n",
       "      <td>5.0</td>\n",
       "      <td>1078790400</td>\n",
       "      <td>Essential for every personal and Public Library</td>\n",
       "      <td>If people become the books they read and if \"t...</td>\n",
       "    </tr>\n",
       "  </tbody>\n",
       "</table>\n",
       "</div>"
      ],
      "text/plain": [
       "           Id                           Title  Price         User_id  \\\n",
       "0  1882931173  Its Only Art If Its Well Hung!    NaN   AVCGYZL8FQQTD   \n",
       "1  0826414346        Dr. Seuss: American Icon    NaN  A30TK6U7DNS82R   \n",
       "2  0826414346        Dr. Seuss: American Icon    NaN  A3UH4UZ4RSVO82   \n",
       "\n",
       "             profileName review/helpfulness  review/score  review/time  \\\n",
       "0  Jim of Oz \"jim-of-oz\"                7/7           4.0    940636800   \n",
       "1          Kevin Killian              10/10           5.0   1095724800   \n",
       "2           John Granger              10/11           5.0   1078790400   \n",
       "\n",
       "                                    review/summary  \\\n",
       "0           Nice collection of Julie Strain images   \n",
       "1                                Really Enjoyed It   \n",
       "2  Essential for every personal and Public Library   \n",
       "\n",
       "                                         review/text  \n",
       "0  This is only for Julie Strain fans. It's a col...  \n",
       "1  I don't care much for Dr. Seuss but after read...  \n",
       "2  If people become the books they read and if \"t...  "
      ]
     },
     "metadata": {},
     "output_type": "display_data"
    }
   ],
   "source": [
    "print(\"Dataset shape:\", df.shape)\n",
    "print(\"\\nFirst 3 rows:\")\n",
    "display(df.head(3))"
   ]
  },
  {
   "cell_type": "code",
   "execution_count": 4,
   "id": "a748eb89",
   "metadata": {},
   "outputs": [
    {
     "name": "stdout",
     "output_type": "stream",
     "text": [
      "                Id       Title          Price         User_id  \\\n",
      "count      3000000     2999792  481171.000000         2438213   \n",
      "unique      221998      212403            NaN         1008972   \n",
      "top     B000IEZE3G  The Hobbit            NaN  A14OJS0VWMOSWO   \n",
      "freq          6796       22023            NaN            5795   \n",
      "mean           NaN         NaN      21.762656             NaN   \n",
      "std            NaN         NaN      26.206541             NaN   \n",
      "min            NaN         NaN       1.000000             NaN   \n",
      "25%            NaN         NaN      10.780000             NaN   \n",
      "50%            NaN         NaN      14.930000             NaN   \n",
      "75%            NaN         NaN      23.950000             NaN   \n",
      "max            NaN         NaN     995.000000             NaN   \n",
      "\n",
      "                profileName review/helpfulness  review/score   review/time  \\\n",
      "count               2438095            3000000  3.000000e+06  3.000000e+06   \n",
      "unique               854145              12084           NaN           NaN   \n",
      "top     Midwest Book Review                0/0           NaN           NaN   \n",
      "freq                   5817             885732           NaN           NaN   \n",
      "mean                    NaN                NaN  4.215289e+00  1.132307e+09   \n",
      "std                     NaN                NaN  1.203054e+00  1.493202e+08   \n",
      "min                     NaN                NaN  1.000000e+00 -1.000000e+00   \n",
      "25%                     NaN                NaN  4.000000e+00  9.999072e+08   \n",
      "50%                     NaN                NaN  5.000000e+00  1.128298e+09   \n",
      "75%                     NaN                NaN  5.000000e+00  1.269130e+09   \n",
      "max                     NaN                NaN  5.000000e+00  1.362355e+09   \n",
      "\n",
      "       review/summary                                        review/text  \n",
      "count         2999593                                            2999992  \n",
      "unique        1592314                                            2062648  \n",
      "top        Great Book  digital books are perfect and easy to use! The...  \n",
      "freq             6848                                                322  \n",
      "mean              NaN                                                NaN  \n",
      "std               NaN                                                NaN  \n",
      "min               NaN                                                NaN  \n",
      "25%               NaN                                                NaN  \n",
      "50%               NaN                                                NaN  \n",
      "75%               NaN                                                NaN  \n",
      "max               NaN                                                NaN  \n"
     ]
    }
   ],
   "source": [
    "# Statistical summary\n",
    "print(df.describe(include='all'))"
   ]
  },
  {
   "cell_type": "code",
   "execution_count": 5,
   "id": "836a3e4d",
   "metadata": {},
   "outputs": [
    {
     "name": "stdout",
     "output_type": "stream",
     "text": [
      "Id                          0\n",
      "Title                     208\n",
      "Price                 2518829\n",
      "User_id                561787\n",
      "profileName            561905\n",
      "review/helpfulness          0\n",
      "review/score                0\n",
      "review/time                 0\n",
      "review/summary            407\n",
      "review/text                 8\n",
      "dtype: int64\n"
     ]
    }
   ],
   "source": [
    "# Check for missing values\n",
    "print(df.isnull().sum())"
   ]
  },
  {
   "cell_type": "code",
   "execution_count": 6,
   "id": "24183fea",
   "metadata": {},
   "outputs": [
    {
     "name": "stdout",
     "output_type": "stream",
     "text": [
      "\n",
      "review/score unique values: 5\n",
      "\n",
      "review/summary unique values: 1592314\n"
     ]
    }
   ],
   "source": [
    "# Unique values in categorical columns\n",
    "for col in ['review/score', 'review/summary']:\n",
    "    print(f\"\\n{col} unique values:\", df[col].nunique())"
   ]
  },
  {
   "cell_type": "code",
   "execution_count": 7,
   "id": "c8540a60",
   "metadata": {},
   "outputs": [
    {
     "data": {
      "image/png": "[encoded data removed]",
      "text/plain": [
       "<Figure size 1000x500 with 1 Axes>"
      ]
     },
     "metadata": {},
     "output_type": "display_data"
    }
   ],
   "source": [
    "import matplotlib.pyplot as plt\n",
    "\n",
    "# Rating distribution\n",
    "rating_counts = df['review/score'].value_counts().sort_index()\n",
    "rating_counts.plot(kind='bar', figsize=(10,5))\n",
    "plt.title('Distribution of Book Ratings')\n",
    "plt.xlabel('Rating Score (1-5)')\n",
    "plt.ylabel('Count')\n",
    "plt.show()"
   ]
  },
  {
   "cell_type": "code",
   "execution_count": 8,
   "id": "c89cc09b",
   "metadata": {},
   "outputs": [
    {
     "name": "stdout",
     "output_type": "stream",
     "text": [
      "\n",
      "Review length statistics:\n",
      "count    2.999992e+06\n",
      "mean     8.226339e+02\n",
      "std      9.660765e+02\n",
      "min      1.000000e+00\n",
      "25%      2.620000e+02\n",
      "50%      5.160000e+02\n",
      "75%      1.009000e+03\n",
      "max      3.257600e+04\n",
      "Name: review_length, dtype: float64\n"
     ]
    },
    {
     "data": {
      "image/png": "[encoded data removed]",
      "text/plain": [
       "<Figure size 1000x500 with 1 Axes>"
      ]
     },
     "metadata": {},
     "output_type": "display_data"
    }
   ],
   "source": [
    "# Review length analysis\n",
    "df['review_length'] = df['review/text'].str.len()\n",
    "\n",
    "print(\"\\nReview length statistics:\")\n",
    "print(df['review_length'].describe())\n",
    "\n",
    "# Plot review length distribution\n",
    "plt.figure(figsize=(10,5))\n",
    "df['review_length'].plot(kind='hist', bins=50)\n",
    "plt.title('Distribution of Review Lengths')\n",
    "plt.xlabel('Character Count')\n",
    "plt.show()"
   ]
  },
  {
   "cell_type": "code",
   "execution_count": 9,
   "id": "5b3be4d7",
   "metadata": {},
   "outputs": [
    {
     "name": "stdout",
     "output_type": "stream",
     "text": [
      "\n",
      "Top 10 most reviewed books:\n",
      "Title\n",
      "The Hobbit                               22023\n",
      "Pride and Prejudice                      20371\n",
      "Atlas Shrugged                           12513\n",
      "Wuthering Heights                        10780\n",
      "The Giver                                 7644\n",
      "Great Expectations                        7421\n",
      "Harry Potter and The Sorcerer's Stone     6796\n",
      "Of Mice and Men                           6728\n",
      "Brave New World                           6312\n",
      "Mere Christianity                         6053\n",
      "Name: count, dtype: int64\n",
      "\n",
      "Top 10 highest rated books (min 100 reviews):\n",
      "                                                   review/score      \n",
      "                                                           mean count\n",
      "Title                                                                \n",
      "Lilla Belle: The First Stages                          5.000000   113\n",
      "Why revival tarries                                    4.970732   205\n",
      "shadow castle                                          4.948276   116\n",
      "Shadow castle,                                         4.948276   116\n",
      "the lion's paw                                         4.946429   112\n",
      "The Ferret Calendar 2005, Ferret Music                 4.943038   158\n",
      "The Valley of Vision: a Collection of Puritan P...     4.921788   179\n",
      "Azucar! The Story of Sugar                             4.921429   140\n",
      "Little Britches                                        4.916667   192\n",
      "Le Fin (Lambert)                                       4.913580   162\n"
     ]
    }
   ],
   "source": [
    "# Top 10 most reviewed books\n",
    "top_books = df['Title'].value_counts().head(10)\n",
    "print(\"\\nTop 10 most reviewed books:\")\n",
    "print(top_books)\n",
    "\n",
    "# Top 10 highest rated books (with minimum 100 reviews)\n",
    "min_reviews = 100\n",
    "book_stats = df.groupby('Title').agg({\n",
    "    'review/score': ['mean', 'count']\n",
    "}).sort_values(('review/score', 'mean'), ascending=False)\n",
    "top_rated = book_stats[book_stats[('review/score', 'count')] >= min_reviews].head(10)\n",
    "print(\"\\nTop 10 highest rated books (min 100 reviews):\")\n",
    "print(top_rated)"
   ]
  },
  {
   "cell_type": "code",
   "execution_count": 10,
   "id": "03a49764",
   "metadata": {},
   "outputs": [
    {
     "name": "stdout",
     "output_type": "stream",
     "text": [
      "Requirement already satisfied: transformers in /home/quang/Two-stages-recommendation-system/myenv/lib/python3.10/site-packages (4.52.4)\n",
      "Requirement already satisfied: requests in /home/quang/Two-stages-recommendation-system/myenv/lib/python3.10/site-packages (from transformers) (2.32.4)\n",
      "Requirement already satisfied: safetensors>=0.4.3 in /home/quang/Two-stages-recommendation-system/myenv/lib/python3.10/site-packages (from transformers) (0.5.3)\n",
      "Requirement already satisfied: regex!=2019.12.17 in /home/quang/Two-stages-recommendation-system/myenv/lib/python3.10/site-packages (from transformers) (2024.11.6)\n",
      "Requirement already satisfied: numpy>=1.17 in /home/quang/Two-stages-recommendation-system/myenv/lib/python3.10/site-packages (from transformers) (2.1.3)\n",
      "Requirement already satisfied: huggingface-hub<1.0,>=0.30.0 in /home/quang/Two-stages-recommendation-system/myenv/lib/python3.10/site-packages (from transformers) (0.33.0)\n",
      "Requirement already satisfied: tokenizers<0.22,>=0.21 in /home/quang/Two-stages-recommendation-system/myenv/lib/python3.10/site-packages (from transformers) (0.21.1)\n",
      "Requirement already satisfied: filelock in /home/quang/Two-stages-recommendation-system/myenv/lib/python3.10/site-packages (from transformers) (3.18.0)\n",
      "Requirement already satisfied: tqdm>=4.27 in /home/quang/Two-stages-recommendation-system/myenv/lib/python3.10/site-packages (from transformers) (4.67.1)\n",
      "Requirement already satisfied: pyyaml>=5.1 in /home/quang/Two-stages-recommendation-system/myenv/lib/python3.10/site-packages (from transformers) (6.0.2)\n",
      "Requirement already satisfied: packaging>=20.0 in /home/quang/Two-stages-recommendation-system/myenv/lib/python3.10/site-packages (from transformers) (25.0)\n",
      "Requirement already satisfied: hf-xet<2.0.0,>=1.1.2 in /home/quang/Two-stages-recommendation-system/myenv/lib/python3.10/site-packages (from huggingface-hub<1.0,>=0.30.0->transformers) (1.1.3)\n",
      "Requirement already satisfied: typing-extensions>=3.7.4.3 in /home/quang/Two-stages-recommendation-system/myenv/lib/python3.10/site-packages (from huggingface-hub<1.0,>=0.30.0->transformers) (4.14.0)\n",
      "Requirement already satisfied: fsspec>=2023.5.0 in /home/quang/Two-stages-recommendation-system/myenv/lib/python3.10/site-packages (from huggingface-hub<1.0,>=0.30.0->transformers) (2025.5.1)\n",
      "Requirement already satisfied: idna<4,>=2.5 in /home/quang/Two-stages-recommendation-system/myenv/lib/python3.10/site-packages (from requests->transformers) (3.10)\n",
      "Requirement already satisfied: certifi>=2017.4.17 in /home/quang/Two-stages-recommendation-system/myenv/lib/python3.10/site-packages (from requests->transformers) (2025.4.26)\n",
      "Requirement already satisfied: charset_normalizer<4,>=2 in /home/quang/Two-stages-recommendation-system/myenv/lib/python3.10/site-packages (from requests->transformers) (3.4.2)\n",
      "Requirement already satisfied: urllib3<3,>=1.21.1 in /home/quang/Two-stages-recommendation-system/myenv/lib/python3.10/site-packages (from requests->transformers) (2.4.0)\n"
     ]
    }
   ],
   "source": [
    "!pip install transformers"
   ]
  },
  {
   "cell_type": "code",
   "execution_count": 11,
   "id": "a727c29b",
   "metadata": {},
   "outputs": [
    {
     "name": "stderr",
     "output_type": "stream",
     "text": [
      "/home/quang/Two-stages-recommendation-system/myenv/lib/python3.10/site-packages/tqdm/auto.py:21: TqdmWarning: IProgress not found. Please update jupyter and ipywidgets. See https://ipywidgets.readthedocs.io/en/stable/user_install.html\n",
      "  from .autonotebook import tqdm as notebook_tqdm\n",
      "2025-06-12 13:45:04.153935: I tensorflow/core/util/port.cc:153] oneDNN custom operations are on. You may see slightly different numerical results due to floating-point round-off errors from different computation orders. To turn them off, set the environment variable `TF_ENABLE_ONEDNN_OPTS=0`.\n",
      "2025-06-12 13:45:04.406752: E external/local_xla/xla/stream_executor/cuda/cuda_fft.cc:467] Unable to register cuFFT factory: Attempting to register factory for plugin cuFFT when one has already been registered\n",
      "WARNING: All log messages before absl::InitializeLog() is called are written to STDERR\n",
      "E0000 00:00:1749725104.497778   42534 cuda_dnn.cc:8579] Unable to register cuDNN factory: Attempting to register factory for plugin cuDNN when one has already been registered\n",
      "E0000 00:00:1749725104.522963   42534 cuda_blas.cc:1407] Unable to register cuBLAS factory: Attempting to register factory for plugin cuBLAS when one has already been registered\n",
      "W0000 00:00:1749725104.733687   42534 computation_placer.cc:177] computation placer already registered. Please check linkage and avoid linking the same target more than once.\n",
      "W0000 00:00:1749725104.733746   42534 computation_placer.cc:177] computation placer already registered. Please check linkage and avoid linking the same target more than once.\n",
      "W0000 00:00:1749725104.733749   42534 computation_placer.cc:177] computation placer already registered. Please check linkage and avoid linking the same target more than once.\n",
      "W0000 00:00:1749725104.733751   42534 computation_placer.cc:177] computation placer already registered. Please check linkage and avoid linking the same target more than once.\n",
      "2025-06-12 13:45:04.764081: I tensorflow/core/platform/cpu_feature_guard.cc:210] This TensorFlow binary is optimized to use available CPU instructions in performance-critical operations.\n",
      "To enable the following instructions: AVX2 AVX_VNNI FMA, in other operations, rebuild TensorFlow with the appropriate compiler flags.\n"
     ]
    }
   ],
   "source": [
    "from transformers import pipeline\n"
   ]
  },
  {
   "cell_type": "code",
   "execution_count": 15,
   "id": "8230dfa2",
   "metadata": {},
   "outputs": [
    {
     "name": "stderr",
     "output_type": "stream",
     "text": [
      "Device set to use cuda:0\n"
     ]
    }
   ],
   "source": [
    "classifier = pipeline(\"text-classification\", model = \"bhadresh-savani/distilbert-base-uncased-emotion\")\n",
    "\n"
   ]
  },
  {
   "cell_type": "code",
   "execution_count": 20,
   "id": "1bd66a71",
   "metadata": {},
   "outputs": [
    {
     "name": "stdout",
     "output_type": "stream",
     "text": [
      "label: sadness\n",
      "score: 0.9983229041099548\n"
     ]
    }
   ],
   "source": [
    "prediction = classifier(\"today i'm sad\")\n",
    "for key, value in prediction[0].items():\n",
    "    print(f\"{key}: {value}\")\n"
   ]
  },
  {
   "cell_type": "code",
   "execution_count": 21,
   "id": "ffec5844",
   "metadata": {},
   "outputs": [],
   "source": [
    "def detect_emotion(review, classifier): \n",
    "    result = classifier(review) \n",
    "    return result[0]['label'] "
   ]
  },
  {
   "cell_type": "code",
   "execution_count": null,
   "id": "fb3ff626",
   "metadata": {},
   "outputs": [],
   "source": [
    "df['emotion'] = df['reviewText'].apply(detect_emotion)"
   ]
  }
 ],
 "metadata": {
  "kernelspec": {
   "display_name": "myenv",
   "language": "python",
   "name": "python3"
  },
  "language_info": {
   "codemirror_mode": {
    "name": "ipython",
    "version": 3
   },
   "file_extension": ".py",
   "mimetype": "text/x-python",
   "name": "python",
   "nbconvert_exporter": "python",
   "pygments_lexer": "ipython3",
   "version": "3.10.12"
  }
 },
 "nbformat": 4,
 "nbformat_minor": 5
}
