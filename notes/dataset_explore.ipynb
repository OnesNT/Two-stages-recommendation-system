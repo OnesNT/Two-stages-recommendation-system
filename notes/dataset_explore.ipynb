{
 "cells": [
  {
   "cell_type": "code",
   "execution_count": null,
   "metadata": {},
   "outputs": [
    {
     "name": "stdout",
     "output_type": "stream",
     "text": [
      "Ratings Data:\n",
      "   user_id  movie_id  rating  timestamp\n",
      "0      196       242       3  881250949\n",
      "1      186       302       3  891717742\n",
      "2       22       377       1  878887116\n",
      "3      244        51       2  880606923\n",
      "4      166       346       1  886397596\n",
      "\n",
      "Movies Data:\n",
      "   movie_id              title release_date  video_release_date  \\\n",
      "0         1   Toy Story (1995)  01-Jan-1995                 NaN   \n",
      "1         2   GoldenEye (1995)  01-Jan-1995                 NaN   \n",
      "2         3  Four Rooms (1995)  01-Jan-1995                 NaN   \n",
      "3         4  Get Shorty (1995)  01-Jan-1995                 NaN   \n",
      "4         5     Copycat (1995)  01-Jan-1995                 NaN   \n",
      "\n",
      "                                            imdb_url  unknown  Action  \\\n",
      "0  http://us.imdb.com/M/title-exact?Toy%20Story%2...        0       0   \n",
      "1  http://us.imdb.com/M/title-exact?GoldenEye%20(...        0       1   \n",
      "2  http://us.imdb.com/M/title-exact?Four%20Rooms%...        0       0   \n",
      "3  http://us.imdb.com/M/title-exact?Get%20Shorty%...        0       1   \n",
      "4  http://us.imdb.com/M/title-exact?Copycat%20(1995)        0       0   \n",
      "\n",
      "   Adventure  Animation  Children  ...  Fantasy  Film-Noir  Horror  Musical  \\\n",
      "0          0          1         1  ...        0          0       0        0   \n",
      "1          1          0         0  ...        0          0       0        0   \n",
      "2          0          0         0  ...        0          0       0        0   \n",
      "3          0          0         0  ...        0          0       0        0   \n",
      "4          0          0         0  ...        0          0       0        0   \n",
      "\n",
      "   Mystery  Romance  Sci-Fi  Thriller  War  Western  \n",
      "0        0        0       0         0    0        0  \n",
      "1        0        0       0         1    0        0  \n",
      "2        0        0       0         1    0        0  \n",
      "3        0        0       0         0    0        0  \n",
      "4        0        0       0         1    0        0  \n",
      "\n",
      "[5 rows x 24 columns]\n",
      "\n",
      "Users Data:\n",
      "   user_id  age gender  occupation zip_code\n",
      "0        1   24      M  technician    85711\n",
      "1        2   53      F       other    94043\n",
      "2        3   23      M      writer    32067\n",
      "3        4   24      M  technician    43537\n",
      "4        5   33      F       other    15213\n"
     ]
    }
   ],
   "source": [
    "import pandas as pd\n",
    "\n",
    "\n",
    "# Load the ratings data\n",
    "ratings = pd.read_csv('../dataset/movielens_dataset/ml-100k/u.data', sep='\\t', names=['user_id', 'movie_id', 'rating', 'timestamp'])\n",
    "# Load the movies data\n",
    "movies = pd.read_csv('../dataset/movielens_dataset/ml-100k/u.item', sep='|', encoding='latin-1', \n",
    "                     names=['movie_id', 'title', 'release_date', 'video_release_date', 'imdb_url', \n",
    "                            'unknown', 'Action', 'Adventure', 'Animation', 'Children', 'Comedy', \n",
    "                            'Crime', 'Documentary', 'Drama', 'Fantasy', 'Film-Noir', 'Horror', \n",
    "                            'Musical', 'Mystery', 'Romance', 'Sci-Fi', 'Thriller', 'War', 'Western'])\n",
    "\n",
    "# Load the users data\n",
    "users = pd.read_csv('../dataset/movielens_dataset/ml-100k/u.user', sep='|', names=['user_id', 'age', 'gender', 'occupation', 'zip_code'])\n",
    "\n",
    "# Display the first few rows of each dataset\n",
    "print(\"Ratings Data:\")\n",
    "print(ratings.head())\n",
    "\n",
    "print(\"\\nMovies Data:\")\n",
    "print(movies.head())\n",
    "\n",
    "print(\"\\nUsers Data:\")\n",
    "print(users.head())"
   ]
  },
  {
   "cell_type": "code",
   "execution_count": 1,
   "metadata": {},
   "outputs": [
    {
     "ename": "NameError",
     "evalue": "name 'ratings' is not defined",
     "output_type": "error",
     "traceback": [
      "\u001b[0;31m---------------------------------------------------------------------------\u001b[0m",
      "\u001b[0;31mNameError\u001b[0m                                 Traceback (most recent call last)",
      "Cell \u001b[0;32mIn[1], line 2\u001b[0m\n\u001b[1;32m      1\u001b[0m \u001b[38;5;66;03m# Extract relevant columns from ratings data\u001b[39;00m\n\u001b[0;32m----> 2\u001b[0m ratings \u001b[38;5;241m=\u001b[39m \u001b[43mratings\u001b[49m[[\u001b[38;5;124m'\u001b[39m\u001b[38;5;124muser_id\u001b[39m\u001b[38;5;124m'\u001b[39m, \u001b[38;5;124m'\u001b[39m\u001b[38;5;124mmovie_id\u001b[39m\u001b[38;5;124m'\u001b[39m, \u001b[38;5;124m'\u001b[39m\u001b[38;5;124mrating\u001b[39m\u001b[38;5;124m'\u001b[39m]]\n\u001b[1;32m      4\u001b[0m \u001b[38;5;66;03m# Display the shape of the ratings data\u001b[39;00m\n\u001b[1;32m      5\u001b[0m \u001b[38;5;28mprint\u001b[39m(\u001b[38;5;124m\"\u001b[39m\u001b[38;5;124mRatings Data Shape:\u001b[39m\u001b[38;5;124m\"\u001b[39m, ratings\u001b[38;5;241m.\u001b[39mshape)\n",
      "\u001b[0;31mNameError\u001b[0m: name 'ratings' is not defined"
     ]
    }
   ],
   "source": [
    "# Extract relevant columns from ratings data\n",
    "ratings = ratings[['user_id', 'movie_id', 'rating']]\n",
    "\n",
    "# Display the shape of the ratings data\n",
    "print(\"Ratings Data Shape:\", ratings.shape)"
   ]
  },
  {
   "cell_type": "code",
   "execution_count": null,
   "metadata": {},
   "outputs": [
    {
     "name": "stdout",
     "output_type": "stream",
     "text": [
      "Missing Values in Ratings Data:\n",
      "user_id     0\n",
      "movie_id    0\n",
      "rating      0\n",
      "dtype: int64\n"
     ]
    }
   ],
   "source": [
    "# Check for missing values\n",
    "print(\"Missing Values in Ratings Data:\")\n",
    "print(ratings.isnull().sum())"
   ]
  },
  {
   "cell_type": "code",
   "execution_count": null,
   "metadata": {},
   "outputs": [
    {
     "name": "stdout",
     "output_type": "stream",
     "text": [
      "Cleaned Ratings Data Shape: (97953, 3)\n"
     ]
    }
   ],
   "source": [
    "# Filter out movies with fewer than 10 ratings\n",
    "movie_counts = ratings['movie_id'].value_counts()\n",
    "ratings = ratings[ratings['movie_id'].isin(movie_counts[movie_counts >= 10].index)]\n",
    "\n",
    "# Filter out users with fewer than 10 ratings\n",
    "user_counts = ratings['user_id'].value_counts()\n",
    "ratings = ratings[ratings['user_id'].isin(user_counts[user_counts >= 10].index)]\n",
    "\n",
    "# Display the shape of the cleaned ratings data\n",
    "print(\"Cleaned Ratings Data Shape:\", ratings.shape)"
   ]
  },
  {
   "cell_type": "code",
   "execution_count": null,
   "metadata": {},
   "outputs": [
    {
     "name": "stdout",
     "output_type": "stream",
     "text": [
      "User-Item Interaction Matrix Shape: (943, 1152)\n"
     ]
    }
   ],
   "source": [
    "from scipy.sparse import csr_matrix\n",
    "\n",
    "# Create a user-item interaction matrix\n",
    "user_item_matrix = ratings.pivot(index='user_id', columns='movie_id', values='rating').fillna(0)\n",
    "\n",
    "# Convert to a sparse matrix for efficiency\n",
    "user_item_matrix_sparse = csr_matrix(user_item_matrix.values)\n",
    "\n",
    "# Display the shape of the interaction matrix\n",
    "print(\"User-Item Interaction Matrix Shape:\", user_item_matrix_sparse.shape)"
   ]
  },
  {
   "cell_type": "code",
   "execution_count": null,
   "metadata": {},
   "outputs": [
    {
     "name": "stdout",
     "output_type": "stream",
     "text": [
      "User ID to Index Mapping (Sample): [(1, 0), (2, 1), (3, 2), (4, 3), (5, 4)]\n",
      "Movie ID to Index Mapping (Sample): [(1, 0), (2, 1), (3, 2), (4, 3), (5, 4)]\n"
     ]
    }
   ],
   "source": [
    "# Create mappings for user and movie IDs\n",
    "user_id_to_index = {user_id: idx for idx, user_id in enumerate(user_item_matrix.index)}\n",
    "movie_id_to_index = {movie_id: idx for idx, movie_id in enumerate(user_item_matrix.columns)}\n",
    "\n",
    "# Display sample mappings\n",
    "print(\"User ID to Index Mapping (Sample):\", list(user_id_to_index.items())[:5])\n",
    "print(\"Movie ID to Index Mapping (Sample):\", list(movie_id_to_index.items())[:5])"
   ]
  },
  {
   "cell_type": "code",
   "execution_count": 5,
   "metadata": {},
   "outputs": [],
   "source": [
    "# Load the MovieLens dataset\n",
    "def load_movielens_data(data_path):\n",
    "    \"\"\"\n",
    "    Load the MovieLens dataset from the specified path.\n",
    "    \"\"\"\n",
    "    ratings = pd.read_csv(os.path.join(data_path, 'u.data'), sep='\\t', names=['user_id', 'movie_id', 'rating', 'timestamp'])\n",
    "    movies = pd.read_csv(os.path.join(data_path, 'u.item'), sep='|', encoding='latin-1', \n",
    "                         names=['movie_id', 'title', 'release_date', 'video_release_date', 'imdb_url', \n",
    "                                'unknown', 'Action', 'Adventure', 'Animation', 'Children', 'Comedy', \n",
    "                                'Crime', 'Documentary', 'Drama', 'Fantasy', 'Film-Noir', 'Horror', \n",
    "                                'Musical', 'Mystery', 'Romance', 'Sci-Fi', 'Thriller', 'War', 'Western'])\n",
    "    users = pd.read_csv(os.path.join(data_path, 'u.user'), sep='|', names=['user_id', 'age', 'gender', 'occupation', 'zip_code'])\n",
    "    return ratings, movies, users\n",
    "\n",
    "# Preprocess the data\n",
    "def preprocess_data(ratings):\n",
    "    \"\"\"\n",
    "    Preprocess the ratings data to create a user-item interaction matrix.\n",
    "    \"\"\"\n",
    "    # Create a user-item interaction matrix\n",
    "    user_item_matrix = ratings.pivot(index='user_id', columns='movie_id', values='rating').fillna(0)\n",
    "    user_item_matrix_sparse = csr_matrix(user_item_matrix.values)\n",
    "    return user_item_matrix_sparse\n"
   ]
  },
  {
   "cell_type": "code",
   "execution_count": null,
   "metadata": {},
   "outputs": [
    {
     "ename": "NameError",
     "evalue": "name 'user_item_matrix_sparse' is not defined",
     "output_type": "error",
     "traceback": [
      "\u001b[0;31m---------------------------------------------------------------------------\u001b[0m",
      "\u001b[0;31mNameError\u001b[0m                                 Traceback (most recent call last)",
      "Cell \u001b[0;32mIn[4], line 15\u001b[0m\n\u001b[1;32m     12\u001b[0m \u001b[38;5;66;03m# print(sys.path)  \u001b[39;00m\n\u001b[1;32m     13\u001b[0m \u001b[38;5;66;03m# Initialize and fit the UserKNN model\u001b[39;00m\n\u001b[1;32m     14\u001b[0m user_knn \u001b[38;5;241m=\u001b[39m UserKNN(k\u001b[38;5;241m=\u001b[39m\u001b[38;5;241m5\u001b[39m, similarity_metric\u001b[38;5;241m=\u001b[39m\u001b[38;5;124m'\u001b[39m\u001b[38;5;124mcosine\u001b[39m\u001b[38;5;124m'\u001b[39m)\n\u001b[0;32m---> 15\u001b[0m user_knn\u001b[38;5;241m.\u001b[39mfit(\u001b[43muser_item_matrix_sparse\u001b[49m)\n\u001b[1;32m     17\u001b[0m \u001b[38;5;66;03m# Generate recommendations for user 1\u001b[39;00m\n\u001b[1;32m     18\u001b[0m user_recommendations \u001b[38;5;241m=\u001b[39m user_knn\u001b[38;5;241m.\u001b[39mrecommend(user_id\u001b[38;5;241m=\u001b[39m\u001b[38;5;241m1\u001b[39m, top_n\u001b[38;5;241m=\u001b[39m\u001b[38;5;241m5\u001b[39m)\n",
      "\u001b[0;31mNameError\u001b[0m: name 'user_item_matrix_sparse' is not defined"
     ]
    }
   ],
   "source": [
    "import sys\n",
    "import os\n",
    "\n",
    "# Add the 'src' directory to the Python path\n",
    "current_dir = os.getcwd()  # Use the current working directory\n",
    "src_dir = os.path.abspath(os.path.join(current_dir, '..', 'src'))\n",
    "sys.path.append(src_dir)\n",
    "\n",
    "# Import the KNN classes\n",
    "from recommenders.knn.item_knn import ItemKNN\n",
    "from recommenders.knn.user_knn import UserKNN\n",
    "# print(sys.path)  \n",
    "# Initialize and fit the UserKNN mode\n",
    "data_path = 'ml-100k\n",
    "\n",
    "ratings, movies, users = load_movielens_data(data_path)\n",
    "user_item_matrix_sparse = preprocess_data(ratings)\n",
    "\n",
    "user_knn = UserKNN(k=5, similarity_metric='cosine')\n",
    "user_knn.fit(user_item_matrix_sparse)\n",
    "\n",
    "# Generate recommendations for user 1\n",
    "user_recommendations = user_knn.recommend(user_id=1, top_n=5)\n",
    "print(\"UserKNN Recommendations for User 1:\", user_recommendations)\n",
    "\n",
    "# Initialize and fit the ItemKNN model\n",
    "item_knn = ItemKNN(k=5, similarity_metric='cosine')\n",
    "item_knn.fit(user_item_matrix_sparse)\n",
    "\n",
    "# Generate recommendations for user 1\n",
    "item_recommendations = item_knn.recommend(user_id=1, top_n=5)\n",
    "print(\"ItemKNN Recommendations for User 1:\", item_recommendations)\n",
    "\n",
    "# src/recommenders/similarity/compute_similarity.py"
   ]
  },
  {
   "cell_type": "code",
   "execution_count": 2,
   "metadata": {},
   "outputs": [
    {
     "ename": "NameError",
     "evalue": "name 'user_recommendations' is not defined",
     "output_type": "error",
     "traceback": [
      "\u001b[0;31m---------------------------------------------------------------------------\u001b[0m",
      "\u001b[0;31mNameError\u001b[0m                                 Traceback (most recent call last)",
      "Cell \u001b[0;32mIn[2], line 8\u001b[0m\n\u001b[1;32m      5\u001b[0m     \u001b[38;5;28;01mreturn\u001b[39;00m movies[movies[\u001b[38;5;124m'\u001b[39m\u001b[38;5;124mmovie_id\u001b[39m\u001b[38;5;124m'\u001b[39m]\u001b[38;5;241m.\u001b[39misin(recommended_movie_ids)][\u001b[38;5;124m'\u001b[39m\u001b[38;5;124mtitle\u001b[39m\u001b[38;5;124m'\u001b[39m]\n\u001b[1;32m      7\u001b[0m \u001b[38;5;66;03m# Get movie titles for UserKNN recommendations\u001b[39;00m\n\u001b[0;32m----> 8\u001b[0m user_recommended_titles \u001b[38;5;241m=\u001b[39m get_movie_titles(\u001b[43muser_recommendations\u001b[49m, movie_id_to_index, movies)\n\u001b[1;32m      9\u001b[0m \u001b[38;5;28mprint\u001b[39m(\u001b[38;5;124m\"\u001b[39m\u001b[38;5;124mUserKNN Recommended Movies for User 1:\u001b[39m\u001b[38;5;124m\"\u001b[39m)\n\u001b[1;32m     10\u001b[0m \u001b[38;5;28mprint\u001b[39m(user_recommended_titles)\n",
      "\u001b[0;31mNameError\u001b[0m: name 'user_recommendations' is not defined"
     ]
    }
   ],
   "source": [
    "# Map recommended movie IDs to titles\n",
    "def get_movie_titles(movie_ids, movie_id_to_index, movies):\n",
    "    index_to_movie_id = {idx: movie_id for movie_id, idx in movie_id_to_index.items()}\n",
    "    recommended_movie_ids = [index_to_movie_id[idx] for idx in movie_ids]\n",
    "    return movies[movies['movie_id'].isin(recommended_movie_ids)]['title']\n",
    "\n",
    "# Get movie titles for UserKNN recommendations\n",
    "user_recommended_titles = get_movie_titles(user_recommendations, movie_id_to_index, movies)\n",
    "print(\"UserKNN Recommended Movies for User 1:\")\n",
    "print(user_recommended_titles)\n",
    "\n",
    "# Get movie titles for ItemKNN recommendations\n",
    "item_recommended_titles = get_movie_titles(item_recommendations, movie_id_to_index, movies)\n",
    "print(\"ItemKNN Recommended Movies for User 1:\")\n",
    "print(item_recommended_titles)"
   ]
  }
 ],
 "metadata": {
  "kernelspec": {
   "display_name": "Python 3",
   "language": "python",
   "name": "python3"
  },
  "language_info": {
   "codemirror_mode": {
    "name": "ipython",
    "version": 3
   },
   "file_extension": ".py",
   "mimetype": "text/x-python",
   "name": "python",
   "nbconvert_exporter": "python",
   "pygments_lexer": "ipython3",
   "version": "3.10.12"
  }
 },
 "nbformat": 4,
 "nbformat_minor": 2
}
