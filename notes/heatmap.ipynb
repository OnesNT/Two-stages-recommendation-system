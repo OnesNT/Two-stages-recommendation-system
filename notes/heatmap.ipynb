{
 "cells": [
  {
   "cell_type": "code",
   "execution_count": 3,
   "metadata": {},
   "outputs": [],
   "source": [
    "import json\n",
    "import matplotlib.pyplot as plt\n",
    "import seaborn as sns\n",
    "import pandas as pd\n",
    "import numpy as np\n",
    "from pathlib import Path\n",
    "import warnings\n",
    "warnings.filterwarnings('ignore')\n",
    "\n",
    "# Set style\n",
    "plt.style.use('seaborn-v0_8-whitegrid')\n",
    "sns.set_palette(\"husl\")\n",
    "\n",
    "# Create output directory\n",
    "output_dir = Path('visualizations')\n",
    "output_dir.mkdir(exist_ok=True)"
   ]
  },
  {
   "cell_type": "code",
   "execution_count": 4,
   "metadata": {},
   "outputs": [
    {
     "name": "stdout",
     "output_type": "stream",
     "text": [
      "Loaded ensemble combinations:\n"
     ]
    }
   ],
   "source": [
    "# Cell 2: Load Your Ensemble Results\n",
    "# Update this path to your actual JSON file\n",
    "results_path = '../results/result.json'  # Change to your file path\n",
    "\n",
    "with open(results_path, 'r') as f:\n",
    "    results = json.load(f)\n",
    "\n",
    "print(\"Loaded ensemble combinations:\")\n",
    "for combo in results.keys():\n",
    "    if '+' in combo:  # Only show combinations\n",
    "        print(f\"- {combo}\")"
   ]
  },
  {
   "cell_type": "code",
   "execution_count": 5,
   "metadata": {},
   "outputs": [
    {
     "name": "stdout",
     "output_type": "stream",
     "text": [
      "\n",
      "Individual models: {'diversity_metrics', 'retrieval_results', 'experiment_info', 'emotion_analysis', 'ranking_results'}\n",
      "Number of combinations: 0\n"
     ]
    }
   ],
   "source": [
    "combinations = {}\n",
    "individual_models = set()\n",
    "\n",
    "for model_name, model_data in results.items():\n",
    "    if '+' in model_name:\n",
    "        # This is a combination\n",
    "        parts = model_name.split(' + ')\n",
    "        combinations[model_name] = {\n",
    "            'models': parts,\n",
    "            'metrics': model_data['metrics'],\n",
    "            'weights': model_data.get('optimal_weight', [0.5, 0.5])\n",
    "        }\n",
    "        individual_models.update(parts)\n",
    "    else:\n",
    "        # This is an individual model\n",
    "        individual_models.add(model_name)\n",
    "\n",
    "print(f\"\\nIndividual models: {individual_models}\")\n",
    "print(f\"Number of combinations: {len(combinations)}\")"
   ]
  },
  {
   "cell_type": "code",
   "execution_count": 6,
   "metadata": {},
   "outputs": [
    {
     "ename": "KeyError",
     "evalue": "'metrics'",
     "output_type": "error",
     "traceback": [
      "\u001b[31m---------------------------------------------------------------------------\u001b[39m",
      "\u001b[31mKeyError\u001b[39m                                  Traceback (most recent call last)",
      "\u001b[36mCell\u001b[39m\u001b[36m \u001b[39m\u001b[32mIn[6]\u001b[39m\u001b[32m, line 16\u001b[39m\n\u001b[32m     13\u001b[39m \u001b[38;5;28;01mif\u001b[39;00m i == j:\n\u001b[32m     14\u001b[39m     \u001b[38;5;66;03m# Diagonal: individual model performance\u001b[39;00m\n\u001b[32m     15\u001b[39m     \u001b[38;5;28;01mif\u001b[39;00m model1 \u001b[38;5;129;01min\u001b[39;00m results:\n\u001b[32m---> \u001b[39m\u001b[32m16\u001b[39m         performance_matrix[i, j] = \u001b[43mresults\u001b[49m\u001b[43m[\u001b[49m\u001b[43mmodel1\u001b[49m\u001b[43m]\u001b[49m\u001b[43m[\u001b[49m\u001b[33;43m'\u001b[39;49m\u001b[33;43mmetrics\u001b[39;49m\u001b[33;43m'\u001b[39;49m\u001b[43m]\u001b[49m[metric][k_value]\n\u001b[32m     17\u001b[39m \u001b[38;5;28;01melse\u001b[39;00m:\n\u001b[32m     18\u001b[39m     \u001b[38;5;66;03m# Off-diagonal: combined performance\u001b[39;00m\n\u001b[32m     19\u001b[39m     combo_name1 = \u001b[33mf\u001b[39m\u001b[33m\"\u001b[39m\u001b[38;5;132;01m{\u001b[39;00mmodel1\u001b[38;5;132;01m}\u001b[39;00m\u001b[33m + \u001b[39m\u001b[38;5;132;01m{\u001b[39;00mmodel2\u001b[38;5;132;01m}\u001b[39;00m\u001b[33m\"\u001b[39m\n",
      "\u001b[31mKeyError\u001b[39m: 'metrics'"
     ]
    }
   ],
   "source": [
    "k_value = '10'\n",
    "metric = 'hit_rate'\n",
    "\n",
    "# Create a matrix for the heatmap\n",
    "models = sorted(list(individual_models))\n",
    "n_models = len(models)\n",
    "performance_matrix = np.zeros((n_models, n_models))\n",
    "weight_matrix = np.zeros((n_models, n_models, 2))  # Store weights\n",
    "\n",
    "# Fill the matrix\n",
    "for i, model1 in enumerate(models):\n",
    "    for j, model2 in enumerate(models):\n",
    "        if i == j:\n",
    "            # Diagonal: individual model performance\n",
    "            if model1 in results:\n",
    "                performance_matrix[i, j] = results[model1]['metrics'][metric][k_value]\n",
    "        else:\n",
    "            # Off-diagonal: combined performance\n",
    "            combo_name1 = f\"{model1} + {model2}\"\n",
    "            combo_name2 = f\"{model2} + {model1}\"\n",
    "            \n",
    "            if combo_name1 in combinations:\n",
    "                performance_matrix[i, j] = combinations[combo_name1]['metrics'][metric][k_value]\n",
    "                weight_matrix[i, j] = combinations[combo_name1]['weights']\n",
    "            elif combo_name2 in combinations:\n",
    "                performance_matrix[i, j] = combinations[combo_name2]['metrics'][metric][k_value]\n",
    "                # Reverse weights for reversed combination\n",
    "                weight_matrix[i, j] = combinations[combo_name2]['weights'][::-1]\n",
    "\n",
    "# Create the heatmap\n",
    "plt.figure(figsize=(12, 10))\n",
    "mask = np.zeros_like(performance_matrix)\n",
    "mask[np.triu_indices_from(mask, k=1)] = True  # Mask upper triangle\n",
    "\n",
    "sns.heatmap(performance_matrix, \n",
    "            annot=True, \n",
    "            fmt='.1f',\n",
    "            cmap='YlOrRd',\n",
    "            xticklabels=models,\n",
    "            yticklabels=models,\n",
    "            mask=mask,\n",
    "            square=True,\n",
    "            linewidths=0.5,\n",
    "            cbar_kws={'label': f'{metric.upper()}@{k_value} (%)'},\n",
    "            vmin=0,\n",
    "            vmax=performance_matrix.max())\n",
    "\n",
    "plt.title(f'Ensemble Performance Heatmap - {metric.upper()}@{k_value}', fontsize=16, fontweight='bold')\n",
    "plt.xlabel('Model 2', fontsize=12)\n",
    "plt.ylabel('Model 1', fontsize=12)\n",
    "\n",
    "# Add text annotation for interpretation\n",
    "plt.text(0.5, -0.1, 'Diagonal: Individual model performance\\nLower triangle: Ensemble performance', \n",
    "         transform=plt.gca().transAxes, ha='center', fontsize=10, style='italic')\n",
    "\n",
    "plt.tight_layout()\n",
    "plt.savefig(output_dir / f'ensemble_heatmap_{metric}_k{k_value}.png', dpi=300, bbox_inches='tight')\n",
    "plt.show()"
   ]
  }
 ],
 "metadata": {
  "kernelspec": {
   "display_name": "myenv",
   "language": "python",
   "name": "python3"
  },
  "language_info": {
   "codemirror_mode": {
    "name": "ipython",
    "version": 3
   },
   "file_extension": ".py",
   "mimetype": "text/x-python",
   "name": "python",
   "nbconvert_exporter": "python",
   "pygments_lexer": "ipython3",
   "version": "3.11.9"
  }
 },
 "nbformat": 4,
 "nbformat_minor": 2
}
